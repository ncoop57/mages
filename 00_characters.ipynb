{
 "cells": [
  {
   "cell_type": "code",
   "execution_count": null,
   "metadata": {},
   "outputs": [],
   "source": [
    "# default_exp characters"
   ]
  },
  {
   "cell_type": "markdown",
   "metadata": {},
   "source": [
    "# module name here\n",
    "\n",
    "> API details."
   ]
  },
  {
   "cell_type": "code",
   "execution_count": 3,
   "metadata": {},
   "outputs": [],
   "source": [
    "# export\n",
    "import random"
   ]
  },
  {
   "cell_type": "code",
   "execution_count": 1,
   "metadata": {},
   "outputs": [],
   "source": [
    "# export\n",
    "class Ability:\n",
    "    ability_types = [\"fire\", \"water\"]\n",
    "    \n",
    "    def __init__(self, damage, damage_type):\n",
    "        self.damage = damage\n",
    "        self.damage_type = damage_type\n",
    "    \n",
    "    def __str__(self):\n",
    "        if self.damage_type == \"fire\":\n",
    "            return \"a jet of fire shot towards\"\n",
    "        elif self.damage_type == \"water\":\n",
    "            return \"ice cold water is flung towards\""
   ]
  },
  {
   "cell_type": "code",
   "execution_count": 2,
   "metadata": {},
   "outputs": [],
   "source": [
    "# export\n",
    "class Character:\n",
    "    def __init__(self, name, max_health, ability):\n",
    "        self.name = name\n",
    "        self.max_health = max_health\n",
    "        self.current_health = max_health\n",
    "        self.ability = ability\n",
    "        self.level = 1\n",
    "    \n",
    "    def __str__(self):\n",
    "        return f\"\"\"\\\n",
    "        {self.name}'s Current Health: {self.current_health}\n",
    "        {self.name}'s Max Health: {self.max_health}\n",
    "        {self.name}'s Ability Damage: {self.ability.damage}\n",
    "        {self.name}'s Ability Type: {self.ability.damage_type}\n",
    "        \"\"\""
   ]
  },
  {
   "cell_type": "code",
   "execution_count": 4,
   "metadata": {},
   "outputs": [],
   "source": [
    "# export\n",
    "class Mage(Character):\n",
    "    def __init__(self, name, max_health, ability):\n",
    "        super().__init__(name, max_health, ability)\n",
    "    \n",
    "    def attack(self, target):\n",
    "        print(f\"From {self.name}'s wand, {self.ability} {target.name}.\")\n",
    "        target.current_health -= self.ability.damage\n",
    "    \n",
    "    def level_up(self):\n",
    "        self.level += 1\n",
    "        self.max_health = self.max_health * self.level\n",
    "        self.current_health = self.max_health\n",
    "        self.ability.damage = self.ability.damage * self.level"
   ]
  },
  {
   "cell_type": "code",
   "execution_count": 18,
   "metadata": {},
   "outputs": [
    {
     "name": "stdout",
     "output_type": "stream",
     "text": [
      "Nathan's Current Health: 100\n",
      "        Nathan's Max Health: 100\n",
      "        Nathan's Ability Damage: 10\n",
      "        Nathan's Ability Type: water\n",
      "        \n"
     ]
    }
   ],
   "source": [
    "NAME = \"Nathan\"\n",
    "MAX_HEALTH = 100\n",
    "ABILITY = Ability(10, \"water\")\n",
    "\n",
    "mage = Mage(NAME, MAX_HEALTH, ABILITY)\n",
    "print(mage)\n",
    "\n",
    "assert mage.name == NAME\n",
    "assert mage.max_health == MAX_HEALTH\n",
    "assert mage.current_health == MAX_HEALTH\n",
    "assert mage.ability == ABILITY\n",
    "assert mage.level == 1"
   ]
  },
  {
   "cell_type": "code",
   "execution_count": 19,
   "metadata": {},
   "outputs": [
    {
     "name": "stdout",
     "output_type": "stream",
     "text": [
      "Nathan's Current Health: 200\n",
      "        Nathan's Max Health: 200\n",
      "        Nathan's Ability Damage: 20\n",
      "        Nathan's Ability Type: water\n",
      "        \n"
     ]
    }
   ],
   "source": [
    "MAX_HEALTH = 200\n",
    "ABILITY_DAMAGE = 20\n",
    "\n",
    "mage.level_up()\n",
    "print(mage)\n",
    "\n",
    "assert mage.max_health == MAX_HEALTH\n",
    "assert mage.current_health == MAX_HEALTH\n",
    "assert mage.ability.damage == ABILITY_DAMAGE\n",
    "assert mage.level == 2"
   ]
  },
  {
   "cell_type": "code",
   "execution_count": 10,
   "metadata": {},
   "outputs": [],
   "source": [
    "# export\n",
    "class Demon(Character):\n",
    "    def __init__(self, name, max_health):\n",
    "        super().__init__(name, max_health, Ability(10, \"fire\"))\n",
    "    \n",
    "    def attack(self, target):\n",
    "        print(f\"From {self.name}'s wand, {self.ability} {target.name}.\")\n",
    "        target.current_health -= self.ability.damage"
   ]
  },
  {
   "cell_type": "code",
   "execution_count": 13,
   "metadata": {},
   "outputs": [
    {
     "name": "stdout",
     "output_type": "stream",
     "text": [
      "Terry's Current Health: 100\n",
      "        Terry's Max Health: 100\n",
      "        Terry's Ability Damage: 10\n",
      "        Terry's Ability Type: fire\n",
      "        \n"
     ]
    }
   ],
   "source": [
    "NAME = \"Terry\"\n",
    "MAX_HEALTH = 100\n",
    "\n",
    "demon = Demon(NAME, MAX_HEALTH)\n",
    "print(demon)\n",
    "\n",
    "assert demon.name == NAME\n",
    "assert demon.max_health == MAX_HEALTH\n",
    "assert demon.current_health == MAX_HEALTH\n",
    "assert demon.ability.damage == 10\n",
    "assert demon.ability.damage_type == \"fire\""
   ]
  },
  {
   "cell_type": "code",
   "execution_count": 14,
   "metadata": {},
   "outputs": [
    {
     "name": "stdout",
     "output_type": "stream",
     "text": [
      "From Nathan's wand, ice cold water is flung towards Terry.\n",
      "        Terry's Current Health: 90\n",
      "        Terry's Max Health: 100\n",
      "        Terry's Ability Damage: 10\n",
      "        Terry's Ability Type: fire\n",
      "        \n"
     ]
    }
   ],
   "source": [
    "CURR_HEALTH = 90\n",
    "\n",
    "mage.attack(demon)\n",
    "print(demon)\n",
    "\n",
    "assert demon.max_health == MAX_HEALTH\n",
    "assert demon.current_health == CURR_HEALTH"
   ]
  },
  {
   "cell_type": "code",
   "execution_count": 15,
   "metadata": {},
   "outputs": [
    {
     "name": "stdout",
     "output_type": "stream",
     "text": [
      "From Terry's wand, a jet of fire shot towards Nathan.\n",
      "        Nathan's Current Health: 90\n",
      "        Nathan's Max Health: 100\n",
      "        Nathan's Ability Damage: 10\n",
      "        Nathan's Ability Type: water\n",
      "        \n"
     ]
    }
   ],
   "source": [
    "demon.attack(mage)\n",
    "print(mage)\n",
    "\n",
    "assert mage.max_health == MAX_HEALTH\n",
    "assert mage.current_health == CURR_HEALTH"
   ]
  },
  {
   "cell_type": "code",
   "execution_count": null,
   "metadata": {},
   "outputs": [],
   "source": [
    "from nbdev.export import notebook2script; notebook2script()"
   ]
  },
  {
   "cell_type": "code",
   "execution_count": null,
   "metadata": {},
   "outputs": [],
   "source": []
  }
 ],
 "metadata": {
  "kernelspec": {
   "display_name": "Python 3",
   "language": "python",
   "name": "python3"
  },
  "language_info": {}
 },
 "nbformat": 4,
 "nbformat_minor": 2
}