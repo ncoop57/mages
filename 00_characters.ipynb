{
 "cells": [
  {
   "cell_type": "code",
   "execution_count": null,
   "metadata": {},
   "outputs": [],
   "source": [
    "# default_exp characters"
   ]
  },
  {
   "cell_type": "markdown",
   "metadata": {},
   "source": [
    "# module name here\n",
    "\n",
    "> API details."
   ]
  },
  {
   "cell_type": "code",
   "execution_count": null,
   "metadata": {},
   "outputs": [],
   "source": [
    "# export\n",
    "import random"
   ]
  },
  {
   "cell_type": "code",
   "execution_count": null,
   "metadata": {},
   "outputs": [],
   "source": [
    "# export\n",
    "class Ability:\n",
    "    ability_types = [\"fire\", \"water\"]\n",
    "    \n",
    "    def __init__(self, damage, damage_type):\n",
    "        self.damage = damage\n",
    "        self.damage_type = damage_type\n",
    "    \n",
    "    def __str__(self):\n",
    "        if self.damage_type == \"fire\":\n",
    "            return \"a jet of fire shot towards\"\n",
    "        elif self.damage_type == \"water\":\n",
    "            return \"ice cold water is flung towards\""
   ]
  },
  {
   "cell_type": "code",
   "execution_count": null,
   "metadata": {},
   "outputs": [],
   "source": [
    "# export\n",
    "class Character:\n",
    "    def __init__(self, name, max_health, ability):\n",
    "        self.name = name\n",
    "        self.max_health = max_health\n",
    "        self.current_health = max_health\n",
    "        self.ability = ability\n",
    "        self.level = 1\n",
    "    \n",
    "    def __str__(self):\n",
    "        return f\"\"\"\\\n",
    "        {self.name}'s Current Health: {self.current_health}\n",
    "        {self.name}'s Max Health: {self.max_health}\n",
    "        {self.name}'s Ability Damage: {self.ability.damage}\n",
    "        {self.name}'s Ability Type: {self.ability.damage_type}\n",
    "        \"\"\""
   ]
  },
  {
   "cell_type": "code",
   "execution_count": null,
   "metadata": {},
   "outputs": [],
   "source": [
    "# export\n",
    "class Mage(Character):\n",
    "    def __init__(self, name, max_health, ability):\n",
    "        super().__init__(name, max_health, ability)\n",
    "    \n",
    "    def attack(self, target):\n",
    "        print(f\"From {self.name}'s wand, {self.ability} {target.name}.\")\n",
    "        target.current_health -= self.ability.damage\n",
    "    \n",
    "    def level_up(self):\n",
    "        self.level += 1\n",
    "        self.max_health = self.max_health * self.level\n",
    "        self.current_health = self.max_health\n",
    "        self.ability.damage = self.ability.damage * self.level"
   ]
  },
  {
   "cell_type": "code",
   "execution_count": null,
   "metadata": {},
   "outputs": [],
   "source": [
    "# export\n",
    "class Demon(Character):\n",
    "    def __init__(self, name, max_health):\n",
    "        super().__init__(name, max_health, Ability(10, \"fire\"))\n",
    "    \n",
    "    def attack(self, target):\n",
    "        print(f\"From {self.name}'s wand, {self.ability} {target.name}.\")\n",
    "        target.current_health -= self.ability.damage"
   ]
  },
  {
   "cell_type": "code",
   "execution_count": null,
   "metadata": {},
   "outputs": [
    {
     "name": "stdout",
     "output_type": "stream",
     "text": [
      "        Nathan's Current Health: 100\n",
      "        Nathan's Max Health: 100\n",
      "        Nathan's Ability Damage: 10\n",
      "        Nathan's Ability Type: water\n",
      "        \n"
     ]
    }
   ],
   "source": [
    "mage = Mage(\"Nathan\", 100, Ability(10, \"water\"))\n",
    "print(mage)"
   ]
  },
  {
   "cell_type": "code",
   "execution_count": null,
   "metadata": {},
   "outputs": [
    {
     "name": "stdout",
     "output_type": "stream",
     "text": [
      "        Terry's Current Health: 100\n",
      "        Terry's Max Health: 100\n",
      "        Terry's Ability Damage: 10\n",
      "        Terry's Ability Type: fire\n",
      "        \n"
     ]
    }
   ],
   "source": [
    "demon = Demon(\"Terry\", 100)\n",
    "print(demon)"
   ]
  },
  {
   "cell_type": "code",
   "execution_count": null,
   "metadata": {},
   "outputs": [
    {
     "name": "stdout",
     "output_type": "stream",
     "text": [
      "From Nathan's wand, ice cold water is flung towards Terry.\n",
      "        Terry's Current Health: 90\n",
      "        Terry's Max Health: 100\n",
      "        Terry's Ability Damage: 10\n",
      "        Terry's Ability Type: fire\n",
      "        \n"
     ]
    }
   ],
   "source": [
    "mage.attack(demon)\n",
    "print(demon)"
   ]
  },
  {
   "cell_type": "code",
   "execution_count": null,
   "metadata": {},
   "outputs": [
    {
     "name": "stdout",
     "output_type": "stream",
     "text": [
      "From Terry's wand, a jet of fire shot towards Nathan.\n",
      "        Nathan's Current Health: 90\n",
      "        Nathan's Max Health: 100\n",
      "        Nathan's Ability Damage: 10\n",
      "        Nathan's Ability Type: water\n",
      "        \n"
     ]
    }
   ],
   "source": [
    "demon.attack(mage)\n",
    "print(mage)"
   ]
  },
  {
   "cell_type": "code",
   "execution_count": null,
   "metadata": {},
   "outputs": [
    {
     "name": "stdout",
     "output_type": "stream",
     "text": [
      "Converted 00_characters.ipynb.\n",
      "Converted 01_game.ipynb.\n",
      "Converted index.ipynb.\n"
     ]
    }
   ],
   "source": [
    "from nbdev.export import notebook2script; notebook2script()"
   ]
  },
  {
   "cell_type": "code",
   "execution_count": null,
   "metadata": {},
   "outputs": [],
   "source": []
  }
 ],
 "metadata": {
  "kernelspec": {
   "display_name": "Python 3",
   "language": "python",
   "name": "python3"
  }
 },
 "nbformat": 4,
 "nbformat_minor": 2
}
