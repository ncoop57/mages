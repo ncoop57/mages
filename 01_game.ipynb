{
 "cells": [
  {
   "cell_type": "code",
   "execution_count": null,
   "metadata": {},
   "outputs": [],
   "source": [
    "# default_exp game"
   ]
  },
  {
   "cell_type": "code",
   "execution_count": null,
   "metadata": {},
   "outputs": [],
   "source": [
    "# hide\n",
    "%load_ext autoreload\n",
    "%autoreload 2"
   ]
  },
  {
   "cell_type": "markdown",
   "metadata": {},
   "source": [
    "# module name here\n",
    "\n",
    "> API details."
   ]
  },
  {
   "cell_type": "code",
   "execution_count": null,
   "metadata": {},
   "outputs": [],
   "source": [
    "# export\n",
    "from mages.characters import Ability, Demon, Mage"
   ]
  },
  {
   "cell_type": "code",
   "execution_count": null,
   "metadata": {},
   "outputs": [],
   "source": [
    "# export\n",
    "def init_player():\n",
    "    print(f\"Hi there, what is your speciality? {Ability.ability_types}\")\n",
    "    while True:\n",
    "        ability_type = input()\n",
    "        if ability_type in Ability.ability_types:\n",
    "            break\n",
    "        else:\n",
    "            print(f\"Invalid ability choice, What is your speciality? {Ability.ability_types}\")\n",
    "    name = input(\"What is your name, mage?\")\n",
    "    return Mage(name, 100, Ability(10, ability_type))"
   ]
  },
  {
   "cell_type": "code",
   "execution_count": null,
   "metadata": {},
   "outputs": [],
   "source": [
    "# player = init_player()\n",
    "# print(player)"
   ]
  },
  {
   "cell_type": "code",
   "execution_count": null,
   "metadata": {},
   "outputs": [],
   "source": [
    "# export\n",
    "COMBAT_OPTIONS = [\"attack\"]\n",
    "\n",
    "def combat(player, boss):\n",
    "    print(\"Combat has begun!\")\n",
    "    while True:\n",
    "        print(player)\n",
    "        print(boss)\n",
    "        print(f\"What do you want to do? {COMBAT_OPTIONS}\")\n",
    "        player_move = input()\n",
    "        if player_move not in COMBAT_OPTIONS:\n",
    "            print(\"Not an option, you lose a move!\")\n",
    "        else:\n",
    "            if player_move == \"attack\":\n",
    "                player.attack(boss)\n",
    "                if boss.current_health <= 0:\n",
    "                    return player\n",
    "        \n",
    "        boss.attack(player)\n",
    "        if player.current_health <= 0:\n",
    "            return boss"
   ]
  },
  {
   "cell_type": "code",
   "execution_count": null,
   "metadata": {},
   "outputs": [],
   "source": [
    "boss = Demon(\"Jerry\", 30)"
   ]
  },
  {
   "cell_type": "code",
   "execution_count": null,
   "metadata": {},
   "outputs": [],
   "source": [
    "# combat(player, boss)"
   ]
  },
  {
   "cell_type": "code",
   "execution_count": null,
   "metadata": {},
   "outputs": [],
   "source": [
    "# export\n",
    "def game_loop(player, n = 5):\n",
    "    for i in range(1, n + 1):\n",
    "        boss = Demon(\"Gary\", 50 * i)\n",
    "        print(f\"A demon named {boss.name} appeared! They seem to have a chip on their shoulder and want to fight you.\")\n",
    "        winner = combat(player, boss)\n",
    "        if winner == player:\n",
    "            print(f\"Well done, you beat {boss.name} and leveled up to {i + 1}!\")\n",
    "            player.level_up()\n",
    "        else:\n",
    "            print(f\"You have fallen to {boss.name}. Game Over!\")\n",
    "            break\n",
    "    if i == n:\n",
    "        print(f\"Congradulations, you've defeated all the bosses and won the game. {player.name}'s name shall go down in history!\")"
   ]
  },
  {
   "cell_type": "code",
   "execution_count": null,
   "metadata": {},
   "outputs": [],
   "source": [
    "# player = init_player()\n",
    "# game_loop(player, 2)"
   ]
  },
  {
   "cell_type": "code",
   "execution_count": null,
   "metadata": {},
   "outputs": [],
   "source": [
    "from nbdev.export import notebook2script; notebook2script()"
   ]
  },
  {
   "cell_type": "code",
   "execution_count": null,
   "metadata": {},
   "outputs": [],
   "source": []
  }
 ],
 "metadata": {
  "kernelspec": {
   "display_name": "Python 3",
   "language": "python",
   "name": "python3"
  },
  "language_info": {
   "version": "3.8.5-final"
  }
 },
 "nbformat": 4,
 "nbformat_minor": 2
}